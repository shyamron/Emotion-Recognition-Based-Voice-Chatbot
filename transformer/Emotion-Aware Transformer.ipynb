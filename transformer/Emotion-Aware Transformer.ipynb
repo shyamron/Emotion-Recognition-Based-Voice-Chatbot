{
 "cells": [
  {
   "cell_type": "code",
   "execution_count": 74,
   "metadata": {
    "colab": {
     "base_uri": "https://localhost:8080/",
     "height": 486
    },
    "id": "mb_5bl7G_n30",
    "outputId": "c3ebeb6e-2ee3-4128-a369-a22adb0f4178",
    "scrolled": true
   },
   "outputs": [],
   "source": [
    "import re\n",
    "\n",
    "import numpy as np\n",
    "import matplotlib.pyplot as plt\n",
    "\n",
    "import pandas as pd\n",
    "import numpy as np\n",
    "import tensorflow as tf\n",
    "import tensorflow_datasets as tfds"
   ]
  },
  {
   "cell_type": "markdown",
   "metadata": {},
   "source": [
    "## Loading Dataset"
   ]
  },
  {
   "cell_type": "code",
   "execution_count": 75,
   "metadata": {
    "colab": {
     "base_uri": "https://localhost:8080/",
     "height": 52
    },
    "id": "S17Nfn6W_vhd",
    "outputId": "43cd9b24-8a76-4b79-df2b-b80035a2ad22"
   },
   "outputs": [],
   "source": [
    "data = pd.read_csv(\"empathy_data.csv\", encoding = 'utf-8')\n",
    "\n",
    "data = data.dropna()"
   ]
  },
  {
   "cell_type": "code",
   "execution_count": 76,
   "metadata": {},
   "outputs": [
    {
     "name": "stdout",
     "output_type": "stream",
     "text": [
      "<class 'pandas.core.frame.DataFrame'>\n",
      "Int64Index: 26408 entries, 0 to 26408\n",
      "Data columns (total 4 columns):\n",
      " #   Column      Non-Null Count  Dtype \n",
      "---  ------      --------------  ----- \n",
      " 0   Unnamed: 0  26408 non-null  int64 \n",
      " 1   emotion     26408 non-null  object\n",
      " 2   response    26408 non-null  object\n",
      " 3   context     26408 non-null  object\n",
      "dtypes: int64(1), object(3)\n",
      "memory usage: 1.0+ MB\n"
     ]
    }
   ],
   "source": [
    "data.info()"
   ]
  },
  {
   "cell_type": "code",
   "execution_count": 77,
   "metadata": {
    "scrolled": true
   },
   "outputs": [
    {
     "data": {
      "text/html": [
       "<div>\n",
       "<style scoped>\n",
       "    .dataframe tbody tr th:only-of-type {\n",
       "        vertical-align: middle;\n",
       "    }\n",
       "\n",
       "    .dataframe tbody tr th {\n",
       "        vertical-align: top;\n",
       "    }\n",
       "\n",
       "    .dataframe thead th {\n",
       "        text-align: right;\n",
       "    }\n",
       "</style>\n",
       "<table border=\"1\" class=\"dataframe\">\n",
       "  <thead>\n",
       "    <tr style=\"text-align: right;\">\n",
       "      <th></th>\n",
       "      <th>Unnamed: 0</th>\n",
       "      <th>emotion</th>\n",
       "      <th>response</th>\n",
       "      <th>context</th>\n",
       "    </tr>\n",
       "  </thead>\n",
       "  <tbody>\n",
       "    <tr>\n",
       "      <th>0</th>\n",
       "      <td>0</td>\n",
       "      <td>sentimental</td>\n",
       "      <td>was this a friend you were in love with , or j...</td>\n",
       "      <td>i remember going to see the fireworks with my ...</td>\n",
       "    </tr>\n",
       "    <tr>\n",
       "      <th>1</th>\n",
       "      <td>1</td>\n",
       "      <td>sentimental</td>\n",
       "      <td>where has she gone ?</td>\n",
       "      <td>i remember going to see the fireworks with my ...</td>\n",
       "    </tr>\n",
       "    <tr>\n",
       "      <th>2</th>\n",
       "      <td>2</td>\n",
       "      <td>afraid</td>\n",
       "      <td>oh ya ? i do not really see how</td>\n",
       "      <td>it feels like hitting to blank wall when i see...</td>\n",
       "    </tr>\n",
       "    <tr>\n",
       "      <th>3</th>\n",
       "      <td>3</td>\n",
       "      <td>afraid</td>\n",
       "      <td>i do actually hit blank walls a lot of times b...</td>\n",
       "      <td>it feels like hitting to blank wall when i see...</td>\n",
       "    </tr>\n",
       "    <tr>\n",
       "      <th>4</th>\n",
       "      <td>4</td>\n",
       "      <td>proud</td>\n",
       "      <td>doing good.. how about you</td>\n",
       "      <td>hi how are you doing today</td>\n",
       "    </tr>\n",
       "    <tr>\n",
       "      <th>5</th>\n",
       "      <td>5</td>\n",
       "      <td>faithful</td>\n",
       "      <td>and thats something you should never do , good...</td>\n",
       "      <td>i have never cheated on my wife .</td>\n",
       "    </tr>\n",
       "    <tr>\n",
       "      <th>6</th>\n",
       "      <td>6</td>\n",
       "      <td>terrified</td>\n",
       "      <td>do not be nervous . just be prepared .</td>\n",
       "      <td>job interviews always make me sweat bullets , ...</td>\n",
       "    </tr>\n",
       "    <tr>\n",
       "      <th>7</th>\n",
       "      <td>7</td>\n",
       "      <td>joyful</td>\n",
       "      <td>sounds great ! so what is your major ?</td>\n",
       "      <td>hi , this year , i was the first over 300 stud...</td>\n",
       "    </tr>\n",
       "    <tr>\n",
       "      <th>8</th>\n",
       "      <td>8</td>\n",
       "      <td>angry</td>\n",
       "      <td>i am sorry to hear that . did it happen out of...</td>\n",
       "      <td>i lost my job last year and got really angry .</td>\n",
       "    </tr>\n",
       "    <tr>\n",
       "      <th>9</th>\n",
       "      <td>9</td>\n",
       "      <td>sad</td>\n",
       "      <td>wow , that must be terrible , i can not imagin...</td>\n",
       "      <td>during christmas a few years ago , i did not g...</td>\n",
       "    </tr>\n",
       "  </tbody>\n",
       "</table>\n",
       "</div>"
      ],
      "text/plain": [
       "   Unnamed: 0      emotion                                           response  \\\n",
       "0           0  sentimental  was this a friend you were in love with , or j...   \n",
       "1           1  sentimental                               where has she gone ?   \n",
       "2           2       afraid                    oh ya ? i do not really see how   \n",
       "3           3       afraid  i do actually hit blank walls a lot of times b...   \n",
       "4           4        proud                         doing good.. how about you   \n",
       "5           5     faithful  and thats something you should never do , good...   \n",
       "6           6    terrified             do not be nervous . just be prepared .   \n",
       "7           7       joyful             sounds great ! so what is your major ?   \n",
       "8           8        angry  i am sorry to hear that . did it happen out of...   \n",
       "9           9          sad  wow , that must be terrible , i can not imagin...   \n",
       "\n",
       "                                             context  \n",
       "0  i remember going to see the fireworks with my ...  \n",
       "1  i remember going to see the fireworks with my ...  \n",
       "2  it feels like hitting to blank wall when i see...  \n",
       "3  it feels like hitting to blank wall when i see...  \n",
       "4                         hi how are you doing today  \n",
       "5                  i have never cheated on my wife .  \n",
       "6  job interviews always make me sweat bullets , ...  \n",
       "7  hi , this year , i was the first over 300 stud...  \n",
       "8     i lost my job last year and got really angry .  \n",
       "9  during christmas a few years ago , i did not g...  "
      ]
     },
     "execution_count": 77,
     "metadata": {},
     "output_type": "execute_result"
    }
   ],
   "source": [
    "data.head(10)"
   ]
  },
  {
   "cell_type": "code",
   "execution_count": 78,
   "metadata": {
    "scrolled": true
   },
   "outputs": [
    {
     "data": {
      "text/plain": [
       "array(['sentimental', 'afraid', 'proud', 'faithful', 'terrified',\n",
       "       'joyful', 'angry', 'sad', 'jealous', 'grateful', 'prepared',\n",
       "       'embarrassed', 'excited', 'annoyed', 'lonely', 'ashamed', 'guilty',\n",
       "       'surprised', 'nostalgic', 'confident', 'furious', 'disappointed',\n",
       "       'caring', 'trusting', 'disgusted', 'anticipating', 'anxious',\n",
       "       'hopeful', 'content', 'impressed', 'apprehensive', 'devastated',\n",
       "       ' t', ' m still single at 34 !', ' s teacher tody .',\n",
       "       ' t believe my favorite show is ending .', ' )', ' t work out .',\n",
       "       ' everyone seems like a good person .',\n",
       "       ' a boy . i hear all these different labor stories that are not exactly reassuring !',\n",
       "       ' t go with them',\n",
       "       ' he broke his old speed and was not distracted a single time while doing the course !',\n",
       "       ' i am planning to put more effort into studying this time .',\n",
       "       ' i was really jealous .',\n",
       "       ' t approved . now i can not buy our dream house .',\n",
       "       ' t seem to see the issue .',\n",
       "       \" m living my best life . i could'not be any happier .\"],\n",
       "      dtype=object)"
      ]
     },
     "execution_count": 78,
     "metadata": {},
     "output_type": "execute_result"
    }
   ],
   "source": [
    "pd.unique(data['emotion'])"
   ]
  },
  {
   "cell_type": "markdown",
   "metadata": {},
   "source": [
    "## Grouping Emotions"
   ]
  },
  {
   "cell_type": "code",
   "execution_count": 79,
   "metadata": {},
   "outputs": [],
   "source": [
    "data['emotion'].replace([\"sentimental\",'sad','nostalgic','lonely','devastated','disappointed'], \"sad\", inplace=True)\n",
    "data['emotion'].replace(['proud','impressed','joyful','surprised','excited',\"happy\"], \"happy\", inplace=True)\n",
    "data['emotion'].replace(['apprehensive','anxious','terrified','afraid'], \"afraid\", inplace=True)\n",
    "data['emotion'].replace(['ashamed','guilty','embarrassed','disgusted'], \"disgust\", inplace=True)\n",
    "data['emotion'].replace(['angry','annoyed','jealous','furious'], \"angry\", inplace=True)\n",
    "data['emotion'].replace(['faithful','trusting','grateful','caring','hopeful','anticipating','prepared','confident','content'], \"neutral\", inplace=True)\n"
   ]
  },
  {
   "cell_type": "code",
   "execution_count": 80,
   "metadata": {},
   "outputs": [],
   "source": [
    "\n",
    "l=['sad', 'afraid', 'happy', 'neutral' ,'angry', 'disgust']\n"
   ]
  },
  {
   "cell_type": "code",
   "execution_count": 81,
   "metadata": {},
   "outputs": [],
   "source": [
    "data= data[data.emotion.isin(l)==True]"
   ]
  },
  {
   "cell_type": "code",
   "execution_count": 82,
   "metadata": {
    "scrolled": true
   },
   "outputs": [
    {
     "data": {
      "text/html": [
       "<div>\n",
       "<style scoped>\n",
       "    .dataframe tbody tr th:only-of-type {\n",
       "        vertical-align: middle;\n",
       "    }\n",
       "\n",
       "    .dataframe tbody tr th {\n",
       "        vertical-align: top;\n",
       "    }\n",
       "\n",
       "    .dataframe thead th {\n",
       "        text-align: right;\n",
       "    }\n",
       "</style>\n",
       "<table border=\"1\" class=\"dataframe\">\n",
       "  <thead>\n",
       "    <tr style=\"text-align: right;\">\n",
       "      <th></th>\n",
       "      <th>Unnamed: 0</th>\n",
       "      <th>emotion</th>\n",
       "      <th>response</th>\n",
       "      <th>context</th>\n",
       "    </tr>\n",
       "  </thead>\n",
       "  <tbody>\n",
       "    <tr>\n",
       "      <th>0</th>\n",
       "      <td>0</td>\n",
       "      <td>sad</td>\n",
       "      <td>was this a friend you were in love with , or j...</td>\n",
       "      <td>i remember going to see the fireworks with my ...</td>\n",
       "    </tr>\n",
       "    <tr>\n",
       "      <th>1</th>\n",
       "      <td>1</td>\n",
       "      <td>sad</td>\n",
       "      <td>where has she gone ?</td>\n",
       "      <td>i remember going to see the fireworks with my ...</td>\n",
       "    </tr>\n",
       "    <tr>\n",
       "      <th>2</th>\n",
       "      <td>2</td>\n",
       "      <td>afraid</td>\n",
       "      <td>oh ya ? i do not really see how</td>\n",
       "      <td>it feels like hitting to blank wall when i see...</td>\n",
       "    </tr>\n",
       "    <tr>\n",
       "      <th>3</th>\n",
       "      <td>3</td>\n",
       "      <td>afraid</td>\n",
       "      <td>i do actually hit blank walls a lot of times b...</td>\n",
       "      <td>it feels like hitting to blank wall when i see...</td>\n",
       "    </tr>\n",
       "    <tr>\n",
       "      <th>4</th>\n",
       "      <td>4</td>\n",
       "      <td>happy</td>\n",
       "      <td>doing good.. how about you</td>\n",
       "      <td>hi how are you doing today</td>\n",
       "    </tr>\n",
       "    <tr>\n",
       "      <th>5</th>\n",
       "      <td>5</td>\n",
       "      <td>neutral</td>\n",
       "      <td>and thats something you should never do , good...</td>\n",
       "      <td>i have never cheated on my wife .</td>\n",
       "    </tr>\n",
       "    <tr>\n",
       "      <th>6</th>\n",
       "      <td>6</td>\n",
       "      <td>afraid</td>\n",
       "      <td>do not be nervous . just be prepared .</td>\n",
       "      <td>job interviews always make me sweat bullets , ...</td>\n",
       "    </tr>\n",
       "    <tr>\n",
       "      <th>7</th>\n",
       "      <td>7</td>\n",
       "      <td>happy</td>\n",
       "      <td>sounds great ! so what is your major ?</td>\n",
       "      <td>hi , this year , i was the first over 300 stud...</td>\n",
       "    </tr>\n",
       "    <tr>\n",
       "      <th>8</th>\n",
       "      <td>8</td>\n",
       "      <td>angry</td>\n",
       "      <td>i am sorry to hear that . did it happen out of...</td>\n",
       "      <td>i lost my job last year and got really angry .</td>\n",
       "    </tr>\n",
       "    <tr>\n",
       "      <th>9</th>\n",
       "      <td>9</td>\n",
       "      <td>sad</td>\n",
       "      <td>wow , that must be terrible , i can not imagin...</td>\n",
       "      <td>during christmas a few years ago , i did not g...</td>\n",
       "    </tr>\n",
       "  </tbody>\n",
       "</table>\n",
       "</div>"
      ],
      "text/plain": [
       "   Unnamed: 0  emotion                                           response  \\\n",
       "0           0      sad  was this a friend you were in love with , or j...   \n",
       "1           1      sad                               where has she gone ?   \n",
       "2           2   afraid                    oh ya ? i do not really see how   \n",
       "3           3   afraid  i do actually hit blank walls a lot of times b...   \n",
       "4           4    happy                         doing good.. how about you   \n",
       "5           5  neutral  and thats something you should never do , good...   \n",
       "6           6   afraid             do not be nervous . just be prepared .   \n",
       "7           7    happy             sounds great ! so what is your major ?   \n",
       "8           8    angry  i am sorry to hear that . did it happen out of...   \n",
       "9           9      sad  wow , that must be terrible , i can not imagin...   \n",
       "\n",
       "                                             context  \n",
       "0  i remember going to see the fireworks with my ...  \n",
       "1  i remember going to see the fireworks with my ...  \n",
       "2  it feels like hitting to blank wall when i see...  \n",
       "3  it feels like hitting to blank wall when i see...  \n",
       "4                         hi how are you doing today  \n",
       "5                  i have never cheated on my wife .  \n",
       "6  job interviews always make me sweat bullets , ...  \n",
       "7  hi , this year , i was the first over 300 stud...  \n",
       "8     i lost my job last year and got really angry .  \n",
       "9  during christmas a few years ago , i did not g...  "
      ]
     },
     "execution_count": 82,
     "metadata": {},
     "output_type": "execute_result"
    }
   ],
   "source": [
    "data.head(10)"
   ]
  },
  {
   "cell_type": "code",
   "execution_count": 83,
   "metadata": {},
   "outputs": [],
   "source": [
    "data.to_csv('cleaneddata.csv',index=False)"
   ]
  },
  {
   "cell_type": "code",
   "execution_count": 84,
   "metadata": {},
   "outputs": [
    {
     "data": {
      "text/plain": [
       "array(['sad', 'afraid', 'happy', 'neutral', 'angry', 'disgust'],\n",
       "      dtype=object)"
      ]
     },
     "execution_count": 84,
     "metadata": {},
     "output_type": "execute_result"
    }
   ],
   "source": [
    "pd.unique(data['emotion'])"
   ]
  },
  {
   "cell_type": "code",
   "execution_count": 85,
   "metadata": {},
   "outputs": [
    {
     "name": "stdout",
     "output_type": "stream",
     "text": [
      "26393\n",
      "26393\n",
      "26393\n"
     ]
    }
   ],
   "source": [
    "context = data['emotion']\n",
    "question = data['context']\n",
    "answer = data['response']\n",
    "\n",
    "print(len(context))\n",
    "print(len(question))\n",
    "print(len(answer))"
   ]
  },
  {
   "cell_type": "code",
   "execution_count": 86,
   "metadata": {
    "id": "_B147qKb_0ks"
   },
   "outputs": [],
   "source": [
    "# Maximum number of samples to preprocess\n",
    "MAX_SAMPLES = 50000\n",
    "\n",
    "def preprocess_sentence(sentence):\n",
    "    sentence = sentence.lower().strip()\n",
    "    sentence = re.sub(r\"([?.!,])\", r\" \\1 \", sentence)\n",
    "    sentence = re.sub(r'[\" \"]+', \" \", sentence)\n",
    "    sentence = re.sub(r\"[^a-zA-Z?.!,]+\", \" \", sentence)\n",
    "    sentence = sentence.strip()\n",
    "\n",
    "    return sentence\n",
    "\n",
    "\n",
    "context = [preprocess_sentence(sentence) for sentence in context]\n",
    "questions = [preprocess_sentence(sentence) for sentence in question]\n",
    "answers = [preprocess_sentence(sentence) for sentence in answer]"
   ]
  },
  {
   "cell_type": "code",
   "execution_count": 87,
   "metadata": {
    "scrolled": true
   },
   "outputs": [],
   "source": [
    "c=pd.DataFrame(context,columns=['context'])\n",
    "c.to_csv('context.csv',index=False)\n",
    "q=pd.DataFrame(questions,columns=['questions'])\n",
    "q.to_csv('questions.csv',index=False)\n",
    "a=pd.DataFrame(answers,columns=['answers'])\n",
    "a.to_csv('answers.csv',index=False)"
   ]
  },
  {
   "cell_type": "code",
   "execution_count": 88,
   "metadata": {
    "colab": {
     "base_uri": "https://localhost:8080/",
     "height": 52
    },
    "id": "mfOOK5f7Wm6c",
    "outputId": "24993723-9696-4d25-b4ff-bc05cfb8edb0"
   },
   "outputs": [
    {
     "name": "stdout",
     "output_type": "stream",
     "text": [
      "Sample question: my coworker is allowed to work remotely , but i am not . . .\n",
      "Sample answer: i work remotely , i wish that you could do something like that as well .\n"
     ]
    }
   ],
   "source": [
    "print('Sample question: {}'.format(questions[10]))\n",
    "print('Sample answer: {}'.format(answers[10]))"
   ]
  },
  {
   "cell_type": "code",
   "execution_count": 89,
   "metadata": {
    "id": "s6XX2udMTCQt"
   },
   "outputs": [],
   "source": [
    "# Build tokenizer using tfds for both questions and answers\n",
    "tokenizer = tfds.deprecated.text.SubwordTextEncoder.build_from_corpus(\n",
    "    questions + answers + context , target_vocab_size=2**13)\n",
    "tokenizer.save_to_file('tokenizer.tf')\n",
    "# Define start and end token to indicate the start and end of a sentence\n",
    "START_TOKEN, END_TOKEN = [tokenizer.vocab_size], [tokenizer.vocab_size + 1]\n",
    "\n",
    "# Vocabulary size plus start and end token\n",
    "VOCAB_SIZE = tokenizer.vocab_size + 2"
   ]
  },
  {
   "cell_type": "code",
   "execution_count": 90,
   "metadata": {},
   "outputs": [
    {
     "data": {
      "text/plain": [
       "<SubwordTextEncoder vocab_size=8392>"
      ]
     },
     "execution_count": 90,
     "metadata": {},
     "output_type": "execute_result"
    }
   ],
   "source": [
    "tokenizer\n"
   ]
  },
  {
   "cell_type": "code",
   "execution_count": 91,
   "metadata": {},
   "outputs": [
    {
     "data": {
      "text/plain": [
       "[8393]"
      ]
     },
     "execution_count": 91,
     "metadata": {},
     "output_type": "execute_result"
    }
   ],
   "source": [
    "END_TOKEN"
   ]
  },
  {
   "cell_type": "code",
   "execution_count": 92,
   "metadata": {},
   "outputs": [
    {
     "data": {
      "text/plain": [
       "8394"
      ]
     },
     "execution_count": 92,
     "metadata": {},
     "output_type": "execute_result"
    }
   ],
   "source": [
    "VOCAB_SIZE "
   ]
  },
  {
   "cell_type": "code",
   "execution_count": 93,
   "metadata": {
    "colab": {
     "base_uri": "https://localhost:8080/",
     "height": 35
    },
    "id": "h5h8pvRUTFt5",
    "outputId": "a54ba714-e198-4d11-d604-8ca1685f02f8"
   },
   "outputs": [
    {
     "name": "stdout",
     "output_type": "stream",
     "text": [
      "Tokenized sample question: [1, 452, 32, 6, 953, 63, 232, 2, 588, 32, 2522, 13, 4, 690, 3206, 2, 176, 25, 22, 822, 7, 275, 21, 7, 6790, 5]\n"
     ]
    }
   ],
   "source": [
    "print('Tokenized sample question: {}'.format(tokenizer.encode(questions[20])))"
   ]
  },
  {
   "cell_type": "code",
   "execution_count": 94,
   "metadata": {
    "id": "YESTPgeg_XgT"
   },
   "outputs": [],
   "source": [
    "# Maximum sentence length\n",
    "MAX_LENGTH = 40\n",
    "\n",
    "\n",
    "# Tokenize, filter and pad sentences\n",
    "def tokenize_and_filter(inputs, outputs, context):\n",
    "  tokenized_inputs, tokenized_outputs, tokenized_context = [], [], []\n",
    "  \n",
    "  for (sentence1, sentence2, emotion) in zip(inputs, outputs, context):\n",
    "    # tokenize sentence\n",
    "    sentence1 = START_TOKEN + tokenizer.encode(sentence1) + END_TOKEN\n",
    "    sentence2 = START_TOKEN + tokenizer.encode(sentence2) + END_TOKEN\n",
    "    emotion = tokenizer.encode(emotion)\n",
    "    # check tokenized sentence max length\n",
    "    if len(sentence1) <= MAX_LENGTH and len(sentence2) <= MAX_LENGTH:\n",
    "      tokenized_inputs.append(sentence1)\n",
    "      tokenized_outputs.append(sentence2)\n",
    "      tokenized_context.append(emotion)\n",
    "  \n",
    "  # pad tokenized sentences\n",
    "  tokenized_inputs = tf.keras.preprocessing.sequence.pad_sequences(\n",
    "      tokenized_inputs, maxlen=MAX_LENGTH, padding='post')\n",
    "  tokenized_outputs = tf.keras.preprocessing.sequence.pad_sequences(\n",
    "      tokenized_outputs, maxlen=MAX_LENGTH, padding='post')\n",
    "  \n",
    "  return tokenized_inputs, tokenized_outputs, tokenized_context\n",
    "\n",
    "\n",
    "questions, answers, context = tokenize_and_filter(questions, answers, context)"
   ]
  },
  {
   "cell_type": "code",
   "execution_count": 95,
   "metadata": {
    "scrolled": true
   },
   "outputs": [
    {
     "data": {
      "text/plain": [
       "[[48],\n",
       " [48],\n",
       " [30],\n",
       " [24],\n",
       " [48],\n",
       " [30],\n",
       " [41],\n",
       " [29],\n",
       " [41],\n",
       " [24],\n",
       " [29],\n",
       " [24],\n",
       " [51],\n",
       " [41],\n",
       " [48],\n",
       " [30],\n",
       " [41],\n",
       " [41],\n",
       " [29],\n",
       " [30],\n",
       " [29],\n",
       " [29],\n",
       " [30],\n",
       " [51],\n",
       " [30],\n",
       " [29],\n",
       " [24],\n",
       " [41],\n",
       " [51],\n",
       " [41],\n",
       " [51],\n",
       " [48],\n",
       " [41],\n",
       " [29],\n",
       " [24],\n",
       " [24],\n",
       " [29],\n",
       " [24],\n",
       " [29],\n",
       " [30],\n",
       " [24],\n",
       " [48],\n",
       " [41],\n",
       " [24],\n",
       " [51],\n",
       " [41],\n",
       " [41],\n",
       " [29],\n",
       " [24],\n",
       " [48],\n",
       " [29],\n",
       " [30],\n",
       " [30],\n",
       " [29],\n",
       " [30],\n",
       " [48],\n",
       " [41],\n",
       " [48],\n",
       " [51],\n",
       " [24],\n",
       " [29],\n",
       " [41],\n",
       " [41],\n",
       " [24],\n",
       " [24],\n",
       " [30],\n",
       " [30],\n",
       " [41],\n",
       " [24],\n",
       " [24],\n",
       " [48],\n",
       " [30],\n",
       " [30],\n",
       " [41],\n",
       " [48],\n",
       " [41],\n",
       " [29],\n",
       " [30],\n",
       " [51],\n",
       " [48],\n",
       " [24],\n",
       " [24],\n",
       " [41],\n",
       " [24],\n",
       " [41],\n",
       " [41],\n",
       " [48],\n",
       " [24],\n",
       " [24],\n",
       " [24],\n",
       " [48],\n",
       " [30],\n",
       " [30],\n",
       " [51],\n",
       " [48],\n",
       " [30],\n",
       " [51],\n",
       " [29],\n",
       " [29],\n",
       " [51],\n",
       " [29],\n",
       " [30],\n",
       " [41],\n",
       " [51],\n",
       " [24],\n",
       " [24],\n",
       " [29],\n",
       " [51],\n",
       " [51],\n",
       " [41],\n",
       " [48],\n",
       " [30],\n",
       " [29],\n",
       " [48],\n",
       " [29],\n",
       " [24],\n",
       " [29],\n",
       " [30],\n",
       " [24],\n",
       " [30],\n",
       " [29],\n",
       " [24],\n",
       " [48],\n",
       " [29],\n",
       " [29],\n",
       " [48],\n",
       " [24],\n",
       " [48],\n",
       " [30],\n",
       " [24],\n",
       " [24],\n",
       " [29],\n",
       " [30],\n",
       " [29],\n",
       " [24],\n",
       " [41],\n",
       " [29],\n",
       " [30],\n",
       " [24],\n",
       " [30],\n",
       " [24],\n",
       " [29],\n",
       " [51],\n",
       " [24],\n",
       " [29],\n",
       " [30],\n",
       " [30],\n",
       " [30],\n",
       " [48],\n",
       " [41],\n",
       " [24],\n",
       " [29],\n",
       " [41],\n",
       " [29],\n",
       " [48],\n",
       " [48],\n",
       " [30],\n",
       " [29],\n",
       " [24],\n",
       " [29],\n",
       " [30],\n",
       " [30],\n",
       " [48],\n",
       " [30],\n",
       " [30],\n",
       " [29],\n",
       " [48],\n",
       " [24],\n",
       " [29],\n",
       " [48],\n",
       " [30],\n",
       " [30],\n",
       " [41],\n",
       " [48],\n",
       " [48],\n",
       " [30],\n",
       " [51],\n",
       " [29],\n",
       " [24],\n",
       " [51],\n",
       " [48],\n",
       " [24],\n",
       " [24],\n",
       " [41],\n",
       " [24],\n",
       " [41],\n",
       " [30],\n",
       " [48],\n",
       " [24],\n",
       " [30],\n",
       " [30],\n",
       " [24],\n",
       " [24],\n",
       " [24],\n",
       " [51],\n",
       " [51],\n",
       " [30],\n",
       " [29],\n",
       " [41],\n",
       " [51],\n",
       " [51],\n",
       " [24],\n",
       " [51],\n",
       " [24],\n",
       " [29],\n",
       " [24],\n",
       " [29],\n",
       " [30],\n",
       " [24],\n",
       " [24],\n",
       " [30],\n",
       " [29],\n",
       " [29],\n",
       " [48],\n",
       " [41],\n",
       " [30],\n",
       " [30],\n",
       " [48],\n",
       " [41],\n",
       " [24],\n",
       " [29],\n",
       " [30],\n",
       " [48],\n",
       " [29],\n",
       " [24],\n",
       " [48],\n",
       " [48],\n",
       " [30],\n",
       " [24],\n",
       " [48],\n",
       " [41],\n",
       " [29],\n",
       " [29],\n",
       " [30],\n",
       " [30],\n",
       " [24],\n",
       " [51],\n",
       " [30],\n",
       " [48],\n",
       " [41],\n",
       " [24],\n",
       " [30],\n",
       " [30],\n",
       " [30],\n",
       " [48],\n",
       " [24],\n",
       " [41],\n",
       " [48],\n",
       " [51],\n",
       " [48],\n",
       " [24],\n",
       " [30],\n",
       " [30],\n",
       " [30],\n",
       " [48],\n",
       " [24],\n",
       " [24],\n",
       " [48],\n",
       " [24],\n",
       " [29],\n",
       " [51],\n",
       " [30],\n",
       " [29],\n",
       " [51],\n",
       " [48],\n",
       " [29],\n",
       " [51],\n",
       " [30],\n",
       " [30],\n",
       " [51],\n",
       " [29],\n",
       " [41],\n",
       " [41],\n",
       " [24],\n",
       " [29],\n",
       " [48],\n",
       " [48],\n",
       " [24],\n",
       " [30],\n",
       " [41],\n",
       " [48],\n",
       " [24],\n",
       " [51],\n",
       " [30],\n",
       " [30],\n",
       " [24],\n",
       " [30],\n",
       " [30],\n",
       " [30],\n",
       " [30],\n",
       " [30],\n",
       " [29],\n",
       " [29],\n",
       " [24],\n",
       " [30],\n",
       " [24],\n",
       " [30],\n",
       " [48],\n",
       " [41],\n",
       " [29],\n",
       " [48],\n",
       " [51],\n",
       " [24],\n",
       " [30],\n",
       " [30],\n",
       " [24],\n",
       " [24],\n",
       " [51],\n",
       " [24],\n",
       " [41],\n",
       " [30],\n",
       " [29],\n",
       " [30],\n",
       " [29],\n",
       " [41],\n",
       " [48],\n",
       " [24],\n",
       " [24],\n",
       " [30],\n",
       " [24],\n",
       " [30],\n",
       " [29],\n",
       " [29],\n",
       " [48],\n",
       " [24],\n",
       " [30],\n",
       " [24],\n",
       " [24],\n",
       " [41],\n",
       " [30],\n",
       " [41],\n",
       " [24],\n",
       " [41],\n",
       " [24],\n",
       " [24],\n",
       " [29],\n",
       " [30],\n",
       " [30],\n",
       " [41],\n",
       " [30],\n",
       " [51],\n",
       " [51],\n",
       " [29],\n",
       " [29],\n",
       " [30],\n",
       " [48],\n",
       " [48],\n",
       " [30],\n",
       " [24],\n",
       " [29],\n",
       " [41],\n",
       " [29],\n",
       " [30],\n",
       " [24],\n",
       " [24],\n",
       " [41],\n",
       " [29],\n",
       " [51],\n",
       " [41],\n",
       " [30],\n",
       " [24],\n",
       " [24],\n",
       " [41],\n",
       " [29],\n",
       " [51],\n",
       " [29],\n",
       " [48],\n",
       " [29],\n",
       " [24],\n",
       " [29],\n",
       " [30],\n",
       " [48],\n",
       " [29],\n",
       " [30],\n",
       " [30],\n",
       " [29],\n",
       " [30],\n",
       " [29],\n",
       " [48],\n",
       " [51],\n",
       " [24],\n",
       " [29],\n",
       " [48],\n",
       " [30],\n",
       " [48],\n",
       " [51],\n",
       " [24],\n",
       " [48],\n",
       " [29],\n",
       " [29],\n",
       " [30],\n",
       " [51],\n",
       " [48],\n",
       " [29],\n",
       " [30],\n",
       " [51],\n",
       " [24],\n",
       " [30],\n",
       " [48],\n",
       " [24],\n",
       " [29],\n",
       " [24],\n",
       " [29],\n",
       " [29],\n",
       " [51],\n",
       " [30],\n",
       " [48],\n",
       " [51],\n",
       " [51],\n",
       " [24],\n",
       " [41],\n",
       " [41],\n",
       " [24],\n",
       " [29],\n",
       " [48],\n",
       " [41],\n",
       " [30],\n",
       " [30],\n",
       " [29],\n",
       " [29],\n",
       " [48],\n",
       " [30],\n",
       " [41],\n",
       " [30],\n",
       " [41],\n",
       " [41],\n",
       " [29],\n",
       " [51],\n",
       " [51],\n",
       " [24],\n",
       " [41],\n",
       " [29],\n",
       " [24],\n",
       " [51],\n",
       " [30],\n",
       " [29],\n",
       " [24],\n",
       " [24],\n",
       " [41],\n",
       " [24],\n",
       " [24],\n",
       " [30],\n",
       " [24],\n",
       " [41],\n",
       " [30],\n",
       " [41],\n",
       " [24],\n",
       " [30],\n",
       " [48],\n",
       " [24],\n",
       " [30],\n",
       " [24],\n",
       " [30],\n",
       " [51],\n",
       " [29],\n",
       " [41],\n",
       " [41],\n",
       " [51],\n",
       " [48],\n",
       " [29],\n",
       " [30],\n",
       " [51],\n",
       " [30],\n",
       " [29],\n",
       " [51],\n",
       " [29],\n",
       " [30],\n",
       " [24],\n",
       " [41],\n",
       " [41],\n",
       " [24],\n",
       " [29],\n",
       " [41],\n",
       " [24],\n",
       " [30],\n",
       " [29],\n",
       " [29],\n",
       " [48],\n",
       " [51],\n",
       " [41],\n",
       " [30],\n",
       " [41],\n",
       " [51],\n",
       " [51],\n",
       " [24],\n",
       " [30],\n",
       " [30],\n",
       " [51],\n",
       " [48],\n",
       " [48],\n",
       " [24],\n",
       " [48],\n",
       " [51],\n",
       " [51],\n",
       " [30],\n",
       " [48],\n",
       " [51],\n",
       " [29],\n",
       " [48],\n",
       " [24],\n",
       " [29],\n",
       " [30],\n",
       " [48],\n",
       " [51],\n",
       " [30],\n",
       " [30],\n",
       " [29],\n",
       " [48],\n",
       " [30],\n",
       " [29],\n",
       " [48],\n",
       " [24],\n",
       " [30],\n",
       " [51],\n",
       " [24],\n",
       " [24],\n",
       " [29],\n",
       " [24],\n",
       " [41],\n",
       " [24],\n",
       " [41],\n",
       " [24],\n",
       " [30],\n",
       " [48],\n",
       " [29],\n",
       " [24],\n",
       " [51],\n",
       " [30],\n",
       " [24],\n",
       " [30],\n",
       " [24],\n",
       " [24],\n",
       " [51],\n",
       " [41],\n",
       " [29],\n",
       " [51],\n",
       " [24],\n",
       " [51],\n",
       " [41],\n",
       " [24],\n",
       " [29],\n",
       " [41],\n",
       " [24],\n",
       " [41],\n",
       " [48],\n",
       " [29],\n",
       " [48],\n",
       " [29],\n",
       " [24],\n",
       " [51],\n",
       " [30],\n",
       " [41],\n",
       " [41],\n",
       " [41],\n",
       " [30],\n",
       " [29],\n",
       " [30],\n",
       " [51],\n",
       " [24],\n",
       " [30],\n",
       " [30],\n",
       " [30],\n",
       " [24],\n",
       " [24],\n",
       " [30],\n",
       " [30],\n",
       " [29],\n",
       " [41],\n",
       " [48],\n",
       " [24],\n",
       " [41],\n",
       " [30],\n",
       " [29],\n",
       " [24],\n",
       " [30],\n",
       " [41],\n",
       " [41],\n",
       " [29],\n",
       " [51],\n",
       " [30],\n",
       " [30],\n",
       " [41],\n",
       " [30],\n",
       " [48],\n",
       " [30],\n",
       " [48],\n",
       " [29],\n",
       " [51],\n",
       " [48],\n",
       " [30],\n",
       " [24],\n",
       " [51],\n",
       " [29],\n",
       " [48],\n",
       " [30],\n",
       " [24],\n",
       " [24],\n",
       " [24],\n",
       " [41],\n",
       " [29],\n",
       " [30],\n",
       " [30],\n",
       " [29],\n",
       " [30],\n",
       " [48],\n",
       " [30],\n",
       " [30],\n",
       " [29],\n",
       " [41],\n",
       " [51],\n",
       " [51],\n",
       " [41],\n",
       " [51],\n",
       " [30],\n",
       " [41],\n",
       " [48],\n",
       " [30],\n",
       " [48],\n",
       " [24],\n",
       " [29],\n",
       " [30],\n",
       " [29],\n",
       " [29],\n",
       " [24],\n",
       " [29],\n",
       " [48],\n",
       " [30],\n",
       " [51],\n",
       " [29],\n",
       " [24],\n",
       " [24],\n",
       " [29],\n",
       " [24],\n",
       " [30],\n",
       " [29],\n",
       " [29],\n",
       " [48],\n",
       " [24],\n",
       " [30],\n",
       " [24],\n",
       " [41],\n",
       " [24],\n",
       " [29],\n",
       " [24],\n",
       " [41],\n",
       " [29],\n",
       " [48],\n",
       " [29],\n",
       " [29],\n",
       " [29],\n",
       " [24],\n",
       " [29],\n",
       " [29],\n",
       " [29],\n",
       " [24],\n",
       " [24],\n",
       " [29],\n",
       " [30],\n",
       " [51],\n",
       " [30],\n",
       " [30],\n",
       " [48],\n",
       " [24],\n",
       " [29],\n",
       " [29],\n",
       " [41],\n",
       " [29],\n",
       " [48],\n",
       " [24],\n",
       " [48],\n",
       " [29],\n",
       " [48],\n",
       " [51],\n",
       " [29],\n",
       " [24],\n",
       " [24],\n",
       " [30],\n",
       " [29],\n",
       " [30],\n",
       " [41],\n",
       " [30],\n",
       " [24],\n",
       " [30],\n",
       " [48],\n",
       " [30],\n",
       " [24],\n",
       " [24],\n",
       " [30],\n",
       " [30],\n",
       " [51],\n",
       " [30],\n",
       " [24],\n",
       " [30],\n",
       " [24],\n",
       " [30],\n",
       " [51],\n",
       " [24],\n",
       " [41],\n",
       " [29],\n",
       " [30],\n",
       " [30],\n",
       " [41],\n",
       " [41],\n",
       " [24],\n",
       " [24],\n",
       " [30],\n",
       " [30],\n",
       " [51],\n",
       " [48],\n",
       " [24],\n",
       " [29],\n",
       " [48],\n",
       " [29],\n",
       " [51],\n",
       " [30],\n",
       " [30],\n",
       " [29],\n",
       " [48],\n",
       " [48],\n",
       " [30],\n",
       " [24],\n",
       " [30],\n",
       " [51],\n",
       " [30],\n",
       " [48],\n",
       " [51],\n",
       " [29],\n",
       " [24],\n",
       " [29],\n",
       " [30],\n",
       " [48],\n",
       " [30],\n",
       " [30],\n",
       " [30],\n",
       " [24],\n",
       " [24],\n",
       " [41],\n",
       " [29],\n",
       " [24],\n",
       " [30],\n",
       " [51],\n",
       " [24],\n",
       " [48],\n",
       " [24],\n",
       " [24],\n",
       " [30],\n",
       " [48],\n",
       " [24],\n",
       " [30],\n",
       " [48],\n",
       " [30],\n",
       " [30],\n",
       " [48],\n",
       " [48],\n",
       " [24],\n",
       " [48],\n",
       " [30],\n",
       " [30],\n",
       " [48],\n",
       " [30],\n",
       " [48],\n",
       " [48],\n",
       " [24],\n",
       " [29],\n",
       " [29],\n",
       " [30],\n",
       " [24],\n",
       " [24],\n",
       " [41],\n",
       " [30],\n",
       " [51],\n",
       " [48],\n",
       " [41],\n",
       " [30],\n",
       " [48],\n",
       " [30],\n",
       " [41],\n",
       " [41],\n",
       " [48],\n",
       " [51],\n",
       " [48],\n",
       " [48],\n",
       " [29],\n",
       " [41],\n",
       " [41],\n",
       " [24],\n",
       " [30],\n",
       " [51],\n",
       " [30],\n",
       " [51],\n",
       " [30],\n",
       " [30],\n",
       " [48],\n",
       " [24],\n",
       " [29],\n",
       " [24],\n",
       " [41],\n",
       " [41],\n",
       " [30],\n",
       " [30],\n",
       " [30],\n",
       " [51],\n",
       " [41],\n",
       " [24],\n",
       " [41],\n",
       " [30],\n",
       " [30],\n",
       " [48],\n",
       " [29],\n",
       " [48],\n",
       " [29],\n",
       " [41],\n",
       " [41],\n",
       " [30],\n",
       " [24],\n",
       " [48],\n",
       " [24],\n",
       " [41],\n",
       " [48],\n",
       " [48],\n",
       " [24],\n",
       " [41],\n",
       " [48],\n",
       " [24],\n",
       " [29],\n",
       " [41],\n",
       " [41],\n",
       " [41],\n",
       " [30],\n",
       " [41],\n",
       " [29],\n",
       " [30],\n",
       " [24],\n",
       " [48],\n",
       " [30],\n",
       " [24],\n",
       " [41],\n",
       " [51],\n",
       " [24],\n",
       " [30],\n",
       " [29],\n",
       " [41],\n",
       " [48],\n",
       " [24],\n",
       " [48],\n",
       " [24],\n",
       " [30],\n",
       " [41],\n",
       " [51],\n",
       " [29],\n",
       " [24],\n",
       " [24],\n",
       " [48],\n",
       " [48],\n",
       " [30],\n",
       " [29],\n",
       " [24],\n",
       " [30],\n",
       " [30],\n",
       " [24],\n",
       " [29],\n",
       " [48],\n",
       " [51],\n",
       " [24],\n",
       " [24],\n",
       " [29],\n",
       " [51],\n",
       " [24],\n",
       " [24],\n",
       " [51],\n",
       " [29],\n",
       " [51],\n",
       " [41],\n",
       " [29],\n",
       " [24],\n",
       " [29],\n",
       " [24],\n",
       " [30],\n",
       " [48],\n",
       " [30],\n",
       " [41],\n",
       " [41],\n",
       " [30],\n",
       " [30],\n",
       " [41],\n",
       " [29],\n",
       " [51],\n",
       " [41],\n",
       " [24],\n",
       " [51],\n",
       " [24],\n",
       " [41],\n",
       " [24],\n",
       " [30],\n",
       " [51],\n",
       " [29],\n",
       " [24],\n",
       " [48],\n",
       " [51],\n",
       " [29],\n",
       " [29],\n",
       " [30],\n",
       " [51],\n",
       " [24],\n",
       " [29],\n",
       " [48],\n",
       " [30],\n",
       " [41],\n",
       " [48],\n",
       " [41],\n",
       " [29],\n",
       " [24],\n",
       " [24],\n",
       " [29],\n",
       " [24],\n",
       " [41],\n",
       " [30],\n",
       " [24],\n",
       " [51],\n",
       " [30],\n",
       " [48],\n",
       " [48],\n",
       " [41],\n",
       " [24],\n",
       " [29],\n",
       " [29],\n",
       " [24],\n",
       " [51],\n",
       " [29],\n",
       " [29],\n",
       " [30],\n",
       " [29],\n",
       " [24],\n",
       " [24],\n",
       " [48],\n",
       " [41],\n",
       " [30],\n",
       " [41],\n",
       " [24],\n",
       " [24],\n",
       " [51],\n",
       " [24],\n",
       " [24],\n",
       " [30],\n",
       " [30],\n",
       " [29],\n",
       " [30],\n",
       " [41],\n",
       " [41],\n",
       " [48],\n",
       " [51],\n",
       " [51],\n",
       " [30],\n",
       " [24],\n",
       " [41],\n",
       " [30],\n",
       " [29],\n",
       " [30],\n",
       " [24],\n",
       " [51],\n",
       " [24],\n",
       " [48],\n",
       " [41],\n",
       " [51],\n",
       " [41],\n",
       " [51],\n",
       " [30],\n",
       " [30],\n",
       " [29],\n",
       " [41],\n",
       " [30],\n",
       " [24],\n",
       " [51],\n",
       " [29],\n",
       " [41],\n",
       " [29],\n",
       " [24],\n",
       " [24],\n",
       " [29],\n",
       " [24],\n",
       " [41],\n",
       " [24],\n",
       " [29],\n",
       " [29],\n",
       " [24],\n",
       " [29],\n",
       " [51],\n",
       " [41],\n",
       " [51],\n",
       " [30],\n",
       " [24],\n",
       " [29],\n",
       " [51],\n",
       " [24],\n",
       " [24],\n",
       " [24],\n",
       " [48],\n",
       " [24],\n",
       " [48],\n",
       " [41],\n",
       " ...]"
      ]
     },
     "execution_count": 95,
     "metadata": {},
     "output_type": "execute_result"
    }
   ],
   "source": [
    "context"
   ]
  },
  {
   "cell_type": "code",
   "execution_count": 96,
   "metadata": {
    "colab": {
     "base_uri": "https://localhost:8080/",
     "height": 52
    },
    "id": "pohHm8IRWlIH",
    "outputId": "10448ea8-2d4b-439b-ed9d-2a13ed7bf721"
   },
   "outputs": [
    {
     "name": "stdout",
     "output_type": "stream",
     "text": [
      "Vocab size: 8394\n",
      "Number of samples: 23685\n"
     ]
    }
   ],
   "source": [
    "print('Vocab size: {}'.format(VOCAB_SIZE))\n",
    "print('Number of samples: {}'.format(len(questions)))"
   ]
  },
  {
   "cell_type": "markdown",
   "metadata": {
    "id": "S50jT4upWh5c"
   },
   "source": [
    "### Create `tf.data.Dataset`"
   ]
  },
  {
   "cell_type": "code",
   "execution_count": 97,
   "metadata": {
    "colab": {
     "base_uri": "https://localhost:8080/",
     "height": 141
    },
    "id": "pttC3XxgAXWQ",
    "outputId": "225aeed3-0b29-4e49-c0bb-e416b104de7b"
   },
   "outputs": [],
   "source": [
    "BATCH_SIZE = 64\n",
    "BUFFER_SIZE = 20000\n",
    "\n",
    "# decoder inputs use the previous target as input\n",
    "# remove START_TOKEN from targets\n",
    "dataset = tf.data.Dataset.from_tensor_slices((\n",
    "    {\n",
    "        'input1': questions,\n",
    "        'input2': context,\n",
    "        'dec_inputs': answers[:, :-1]\n",
    "    },\n",
    "    {\n",
    "        'outputs': answers[:, 1:]\n",
    "    },\n",
    "))\n",
    "tf.data.experimental.save(dataset, 'C:\\\\Users\\\\dongo\\\\transformer\\\\Emotion-Aware-Transformer-Encoder-for-Empathetic-Dialogue-Generation')\n",
    "dataset = dataset.cache()\n",
    "dataset = dataset.shuffle(BUFFER_SIZE)\n",
    "dataset = dataset.batch(BATCH_SIZE)\n",
    "dataset = dataset.prefetch(tf.data.experimental.AUTOTUNE)"
   ]
  },
  {
   "cell_type": "code",
   "execution_count": 98,
   "metadata": {},
   "outputs": [
    {
     "data": {
      "text/plain": [
       "23685"
      ]
     },
     "execution_count": 98,
     "metadata": {},
     "output_type": "execute_result"
    }
   ],
   "source": [
    "len(questions)"
   ]
  },
  {
   "cell_type": "code",
   "execution_count": 99,
   "metadata": {
    "colab": {
     "base_uri": "https://localhost:8080/",
     "height": 55
    },
    "id": "mU8yNWpwPlS7",
    "outputId": "de2c0206-984a-4770-8c23-399e44acbfe9"
   },
   "outputs": [
    {
     "name": "stdout",
     "output_type": "stream",
     "text": [
      "<PrefetchDataset element_spec=({'input1': TensorSpec(shape=(None, 40), dtype=tf.int32, name=None), 'input2': TensorSpec(shape=(None, 1), dtype=tf.int32, name=None), 'dec_inputs': TensorSpec(shape=(None, 39), dtype=tf.int32, name=None)}, {'outputs': TensorSpec(shape=(None, 39), dtype=tf.int32, name=None)})>\n"
     ]
    }
   ],
   "source": [
    "print(dataset)"
   ]
  },
  {
   "cell_type": "markdown",
   "metadata": {
    "id": "s9eeMPjGXmI1"
   },
   "source": [
    "## Attention\n",
    "\n"
   ]
  },
  {
   "cell_type": "code",
   "execution_count": 100,
   "metadata": {
    "id": "ENfqAFna_50H"
   },
   "outputs": [],
   "source": [
    "def scaled_dot_product_attention(query, key, value, mask):\n",
    "  \"\"\"Calculate the attention weights. \"\"\"\n",
    "  matmul_qk = tf.matmul(query, key, transpose_b=True)\n",
    "\n",
    "  # scale matmul_qk\n",
    "  depth = tf.cast(tf.shape(key)[-1], tf.float32)\n",
    "  logits = matmul_qk / tf.math.sqrt(depth)\n",
    "\n",
    "  # add the mask to zero out padding tokens\n",
    "  if mask is not None:\n",
    "    logits += (mask * -1e9)\n",
    "\n",
    "  # softmax is normalized on the last axis (seq_len_k)\n",
    "  attention_weights = tf.nn.softmax(logits, axis=-1)\n",
    "\n",
    "  output = tf.matmul(attention_weights, value)\n",
    "\n",
    "  return output"
   ]
  },
  {
   "cell_type": "markdown",
   "metadata": {
    "id": "XwmOB9HvVbyh"
   },
   "source": [
    "### Multi-head attention\n"
   ]
  },
  {
   "cell_type": "code",
   "execution_count": 101,
   "metadata": {
    "id": "L9eYssGIAG4h"
   },
   "outputs": [],
   "source": [
    "class MultiHeadAttention(tf.keras.layers.Layer):\n",
    "\n",
    "  def __init__(self, d_model, num_heads, name=\"multi_head_attention\"):\n",
    "    super(MultiHeadAttention, self).__init__(name=name)\n",
    "    self.num_heads = num_heads\n",
    "    self.d_model = d_model\n",
    "\n",
    "    assert d_model % self.num_heads == 0\n",
    "\n",
    "    self.depth = d_model // self.num_heads\n",
    "\n",
    "    self.query_dense = tf.keras.layers.Dense(units=d_model)\n",
    "    self.key_dense = tf.keras.layers.Dense(units=d_model)\n",
    "    self.value_dense = tf.keras.layers.Dense(units=d_model)\n",
    "\n",
    "    self.dense = tf.keras.layers.Dense(units=d_model)\n",
    "\n",
    "  def split_heads(self, inputs, batch_size):\n",
    "    inputs = tf.reshape(\n",
    "        inputs, shape=(batch_size, -1, self.num_heads, self.depth))\n",
    "    return tf.transpose(inputs, perm=[0, 2, 1, 3])\n",
    "\n",
    "  def call(self, inputs):\n",
    "    query, key, value, mask = inputs['query'], inputs['key'], inputs[\n",
    "        'value'], inputs['mask']\n",
    "    batch_size = tf.shape(query)[0]\n",
    "\n",
    "    # linear layers\n",
    "    query = self.query_dense(query)\n",
    "    key = self.key_dense(key)\n",
    "    value = self.value_dense(value)\n",
    "\n",
    "    # split heads\n",
    "    query = self.split_heads(query, batch_size)\n",
    "    key = self.split_heads(key, batch_size)\n",
    "    value = self.split_heads(value, batch_size)\n",
    "\n",
    "    # scaled dot-product attention\n",
    "    scaled_attention = scaled_dot_product_attention(query, key, value, mask)\n",
    "\n",
    "    scaled_attention = tf.transpose(scaled_attention, perm=[0, 2, 1, 3])\n",
    "\n",
    "    # concatenation of heads\n",
    "    concat_attention = tf.reshape(scaled_attention,\n",
    "                                  (batch_size, -1, self.d_model))\n",
    "\n",
    "    # final linear layer\n",
    "    outputs = self.dense(concat_attention)\n",
    "\n",
    "    return outputs"
   ]
  },
  {
   "cell_type": "markdown",
   "metadata": {
    "id": "eDUX7Oa8Xudj"
   },
   "source": [
    "## Transformer"
   ]
  },
  {
   "cell_type": "markdown",
   "metadata": {
    "id": "x5QlgXsxYirg"
   },
   "source": [
    "### Masking\n",
    "\n"
   ]
  },
  {
   "cell_type": "code",
   "execution_count": 102,
   "metadata": {
    "id": "imCQ0jrvWhC7"
   },
   "outputs": [],
   "source": [
    "def create_padding_mask(x):\n",
    "  mask = tf.cast(tf.math.equal(x, 0), tf.float32)\n",
    "  # (batch_size, 1, 1, sequence length)\n",
    "  return mask[:, tf.newaxis, tf.newaxis, :]"
   ]
  },
  {
   "cell_type": "code",
   "execution_count": 103,
   "metadata": {
    "colab": {
     "base_uri": "https://localhost:8080/",
     "height": 104
    },
    "id": "IrwtsqrfWd-3",
    "outputId": "b7ca580c-ab44-4558-b1b0-d567bc27e660",
    "scrolled": false
   },
   "outputs": [
    {
     "name": "stdout",
     "output_type": "stream",
     "text": [
      "tf.Tensor(\n",
      "[[[[0. 0. 1. 0. 1.]]]\n",
      "\n",
      "\n",
      " [[[1. 1. 1. 0. 0.]]]], shape=(2, 1, 1, 5), dtype=float32)\n"
     ]
    }
   ],
   "source": [
    "print(create_padding_mask(tf.constant([[1, 2, 0, 3, 0], [0, 0, 0, 4, 5]])))"
   ]
  },
  {
   "cell_type": "markdown",
   "metadata": {
    "id": "qJAicy1zW1QT"
   },
   "source": [
    "Look-ahead mask to mask the future tokens in a sequence.\n",
    "We also mask out pad tokens.\n",
    "\n",
    "i.e. To predict the third word, only the first and second word will be used"
   ]
  },
  {
   "cell_type": "code",
   "execution_count": 104,
   "metadata": {
    "id": "HSVdD2zKWaXx"
   },
   "outputs": [],
   "source": [
    "def create_look_ahead_mask(x):\n",
    "  seq_len = tf.shape(x)[1]\n",
    "  look_ahead_mask = 1 - tf.linalg.band_part(tf.ones((seq_len, seq_len)), -1, 0)\n",
    "  padding_mask = create_padding_mask(x)\n",
    "  return tf.maximum(look_ahead_mask, padding_mask)"
   ]
  },
  {
   "cell_type": "code",
   "execution_count": 105,
   "metadata": {
    "colab": {
     "base_uri": "https://localhost:8080/",
     "height": 121
    },
    "id": "xhwz9xzxWcod",
    "outputId": "23729998-d7e2-4780-a1e4-ee7cf361af90"
   },
   "outputs": [
    {
     "name": "stdout",
     "output_type": "stream",
     "text": [
      "tf.Tensor(\n",
      "[[[[0. 1. 1. 1. 1.]\n",
      "   [0. 0. 1. 1. 1.]\n",
      "   [0. 0. 1. 1. 1.]\n",
      "   [0. 0. 1. 0. 1.]\n",
      "   [0. 0. 1. 0. 0.]]]], shape=(1, 1, 5, 5), dtype=float32)\n"
     ]
    }
   ],
   "source": [
    "print(create_look_ahead_mask(tf.constant([[1, 2, 0, 4, 5]])))"
   ]
  },
  {
   "cell_type": "markdown",
   "metadata": {
    "id": "TpR7kz4jFkPJ"
   },
   "source": [
    "### Positional encoding\n"
   ]
  },
  {
   "cell_type": "code",
   "execution_count": 106,
   "metadata": {
    "id": "-9Oibz2es-qW"
   },
   "outputs": [],
   "source": [
    "class PositionalEncoding(tf.keras.layers.Layer):\n",
    "\n",
    "  def __init__(self, position, d_model):\n",
    "    super(PositionalEncoding, self).__init__()\n",
    "    self.pos_encoding = self.positional_encoding(position, d_model)\n",
    "\n",
    "  def get_angles(self, position, i, d_model):\n",
    "    angles = 1 / tf.pow(10000, (2 * (i // 2)) / tf.cast(d_model, tf.float32))\n",
    "    return position * angles\n",
    "\n",
    "  def positional_encoding(self, position, d_model):\n",
    "    angle_rads = self.get_angles(\n",
    "        position=tf.range(position, dtype=tf.float32)[:, tf.newaxis],\n",
    "        i=tf.range(d_model, dtype=tf.float32)[tf.newaxis, :],\n",
    "        d_model=d_model)\n",
    "    # apply sin to even index in the array\n",
    "    sines = tf.math.sin(angle_rads[:, 0::2])\n",
    "    # apply cos to odd index in the array\n",
    "    cosines = tf.math.cos(angle_rads[:, 1::2])\n",
    "\n",
    "    pos_encoding = tf.concat([sines, cosines], axis=-1)\n",
    "    pos_encoding = pos_encoding[tf.newaxis, ...]\n",
    "    return tf.cast(pos_encoding, tf.float32)\n",
    "\n",
    "  def call(self, inputs):\n",
    "    return inputs + self.pos_encoding[:, :tf.shape(inputs)[1], :]"
   ]
  },
  {
   "cell_type": "code",
   "execution_count": 107,
   "metadata": {
    "colab": {
     "base_uri": "https://localhost:8080/",
     "height": 283
    },
    "id": "UC_fQehi3_Yh",
    "outputId": "b8af00e4-c47d-444d-fd44-5a8cb0f94d7f"
   },
   "outputs": [
    {
     "data": {
      "image/png": "[encoded data removed]",
      "text/plain": [
       "<Figure size 640x480 with 2 Axes>"
      ]
     },
     "metadata": {},
     "output_type": "display_data"
    }
   ],
   "source": [
    "sample_pos_encoding = PositionalEncoding(50, 512)\n",
    "\n",
    "plt.pcolormesh(sample_pos_encoding.pos_encoding.numpy()[0], cmap='RdBu')\n",
    "plt.xlabel('Depth')\n",
    "plt.xlim((0, 512))\n",
    "plt.ylabel('Position')\n",
    "plt.colorbar()\n",
    "plt.show()"
   ]
  },
  {
   "cell_type": "markdown",
   "metadata": {
    "id": "HVazCemoW2Ye"
   },
   "source": [
    "### Encoder Layer\n"
   ]
  },
  {
   "cell_type": "code",
   "execution_count": 108,
   "metadata": {
    "id": "5guJOLJmfcuX"
   },
   "outputs": [],
   "source": [
    "def encoder_layer(units, d_model, num_heads, dropout, name=\"encoder_layer\"):\n",
    "  inputs = tf.keras.Input(shape=(None, d_model), name=\"inputs\")\n",
    "  padding_mask = tf.keras.Input(shape=(1, 1, None), name=\"padding_mask\")\n",
    "\n",
    "  attention = MultiHeadAttention(\n",
    "      d_model, num_heads, name=\"attention\")({\n",
    "          'query': inputs,\n",
    "          'key': inputs,\n",
    "          'value': inputs,\n",
    "          'mask': padding_mask\n",
    "      })\n",
    "  attention = tf.keras.layers.Dropout(rate=dropout)(attention)\n",
    "  attention = tf.keras.layers.LayerNormalization(\n",
    "      epsilon=1e-6)(inputs + attention)\n",
    "\n",
    "  outputs = tf.keras.layers.Dense(units=units, activation='relu')(attention)\n",
    "  outputs = tf.keras.layers.Dense(units=d_model)(outputs)\n",
    "  outputs = tf.keras.layers.Dropout(rate=dropout)(outputs)\n",
    "  outputs = tf.keras.layers.LayerNormalization(\n",
    "      epsilon=1e-6)(attention + outputs)\n",
    "\n",
    "  return tf.keras.Model(\n",
    "      inputs=[inputs, padding_mask], outputs=outputs, name=name)"
   ]
  },
  {
   "cell_type": "code",
   "execution_count": 109,
   "metadata": {
    "colab": {
     "base_uri": "https://localhost:8080/",
     "height": 1000
    },
    "id": "K16BIGSKfkve",
    "outputId": "1bc30cb1-5c52-4c53-dec0-3dd5f0d525c5"
   },
   "outputs": [
    {
     "name": "stdout",
     "output_type": "stream",
     "text": [
      "You must install pydot (`pip install pydot`) and install graphviz (see instructions at https://graphviz.gitlab.io/download/) for plot_model/model_to_dot to work.\n"
     ]
    }
   ],
   "source": [
    "sample_encoder_layer = encoder_layer(\n",
    "    units=512,\n",
    "    d_model=128,\n",
    "    num_heads=4,\n",
    "    dropout=0.3,\n",
    "    name=\"sample_encoder_layer\")\n",
    "\n",
    "tf.keras.utils.plot_model(\n",
    "    sample_encoder_layer, to_file='encoder_layer.png', show_shapes=True)"
   ]
  },
  {
   "cell_type": "markdown",
   "metadata": {
    "id": "9r8lWGClfi_1"
   },
   "source": [
    "### Encoder"
   ]
  },
  {
   "cell_type": "code",
   "execution_count": 110,
   "metadata": {
    "id": "LRfugon5Wy-Y"
   },
   "outputs": [],
   "source": [
    "def encoder(vocab_size,\n",
    "            num_layers,\n",
    "            units,\n",
    "            d_model,\n",
    "            num_heads,\n",
    "            dropout,\n",
    "            name=\"encoder\"):\n",
    "  input1 = tf.keras.Input(shape=(None,), name=\"input1\")\n",
    "  input2 = tf.keras.Input(shape=(None,), name=\"imput2\")\n",
    "  padding_mask = tf.keras.Input(shape=(1, 1, None), name=\"padding_mask\")\n",
    "\n",
    "  embedding1 = tf.keras.layers.Embedding(vocab_size, d_model)(input1)\n",
    "  embedding1 *= tf.math.sqrt(tf.cast(d_model, tf.float32))\n",
    "\n",
    "  embedding2 = tf.keras.layers.Embedding(vocab_size, d_model)(input2)\n",
    "  embedding2 *= tf.math.sqrt(tf.cast(d_model, tf.float32))\n",
    "\n",
    "  embeddings = outputs = tf.keras.layers.LayerNormalization(\n",
    "      epsilon=1e-6)(embedding1 + embedding2)\n",
    "\n",
    "  embeddings = PositionalEncoding(vocab_size, d_model)(embeddings)\n",
    "\n",
    "  outputs = tf.keras.layers.Dropout(rate=dropout)(embeddings)\n",
    "\n",
    "  for i in range(num_layers):\n",
    "    outputs = encoder_layer(\n",
    "        units=units,\n",
    "        d_model=d_model,\n",
    "        num_heads=num_heads,\n",
    "        dropout=dropout,\n",
    "        name=\"encoder_layer_{}\".format(i),\n",
    "    )([outputs, padding_mask])\n",
    "\n",
    "  return tf.keras.Model(\n",
    "      inputs=[input1,input2, padding_mask], outputs=outputs, name=name)"
   ]
  },
  {
   "cell_type": "code",
   "execution_count": null,
   "metadata": {
    "colab": {
     "base_uri": "https://localhost:8080/",
     "height": 754
    },
    "id": "bNxCnjrvglnx",
    "outputId": "6fe35d8a-2ed9-4e25-e5d6-5342b293a066"
   },
   "outputs": [
    {
     "name": "stdout",
     "output_type": "stream",
     "text": [
      "You must install pydot (`pip install pydot`) and install graphviz (see instructions at https://graphviz.gitlab.io/download/) for plot_model/model_to_dot to work.\n"
     ]
    }
   ],
   "source": [
    "sample_encoder = encoder(\n",
    "    vocab_size=8192,\n",
    "    num_layers=2,\n",
    "    units=512,\n",
    "    d_model=128,\n",
    "    num_heads=4,\n",
    "    dropout=0.3,\n",
    "    name=\"sample_encoder\")\n",
    "\n",
    "tf.keras.utils.plot_model(\n",
    "   sample_encoder, to_file='encoder.png', show_shapes=True)"
   ]
  },
  {
   "cell_type": "markdown",
   "metadata": {
    "id": "af66azvgW9P-"
   },
   "source": [
    "### Decoder Layer\n"
   ]
  },
  {
   "cell_type": "code",
   "execution_count": null,
   "metadata": {
    "id": "6mLvvNMWgDnf"
   },
   "outputs": [],
   "source": [
    "def decoder_layer(units, d_model, num_heads, dropout, name=\"decoder_layer\"):\n",
    "  inputs = tf.keras.Input(shape=(None, d_model), name=\"inputs\")\n",
    "  enc_outputs = tf.keras.Input(shape=(None, d_model), name=\"encoder_outputs\")\n",
    "  look_ahead_mask = tf.keras.Input(shape=(1, None, None), name=\"look_ahead_mask\")\n",
    "  padding_mask = tf.keras.Input(shape=(1, 1, None), name='padding_mask')\n",
    "\n",
    "  attention1 = MultiHeadAttention(\n",
    "      d_model, num_heads, name=\"attention_1\")(inputs={\n",
    "          'query': inputs,\n",
    "          'key': inputs,\n",
    "          'value': inputs,\n",
    "          'mask': look_ahead_mask\n",
    "      })\n",
    "  attention1 = tf.keras.layers.LayerNormalization(\n",
    "      epsilon=1e-6)(attention1 + inputs)\n",
    "\n",
    "  attention2 = MultiHeadAttention(\n",
    "      d_model, num_heads, name=\"attention_2\")(inputs={\n",
    "          'query': attention1,\n",
    "          'key': enc_outputs,\n",
    "          'value': enc_outputs,\n",
    "          'mask': padding_mask\n",
    "      })\n",
    "  attention2 = tf.keras.layers.Dropout(rate=dropout)(attention2)\n",
    "  attention2 = tf.keras.layers.LayerNormalization(epsilon=1e-6)(attention2 + attention1)\n",
    "\n",
    "  outputs = tf.keras.layers.Dense(units=units, activation='relu')(attention2)\n",
    "  outputs = tf.keras.layers.Dense(units=d_model)(outputs)\n",
    "  outputs = tf.keras.layers.Dropout(rate=dropout)(outputs)\n",
    "  outputs = tf.keras.layers.LayerNormalization(epsilon=1e-6)(outputs + attention2)\n",
    "\n",
    "  return tf.keras.Model(\n",
    "      inputs=[inputs, enc_outputs, look_ahead_mask, padding_mask],\n",
    "      outputs=outputs,\n",
    "      name=name)"
   ]
  },
  {
   "cell_type": "code",
   "execution_count": null,
   "metadata": {
    "colab": {
     "base_uri": "https://localhost:8080/",
     "height": 1000
    },
    "id": "8M1NrQ_NgEaM",
    "outputId": "30dfd728-8c6d-4021-e5ac-54675cb4d55c"
   },
   "outputs": [],
   "source": [
    "sample_decoder_layer = decoder_layer(\n",
    "    units=512,\n",
    "    d_model=128,\n",
    "    num_heads=4,\n",
    "    dropout=0.3,\n",
    "    name=\"sample_decoder_layer\")\n",
    "\n",
    "tf.keras.utils.plot_model(\n",
    "    sample_decoder_layer, to_file='decoder_layer.png', show_shapes=True)"
   ]
  },
  {
   "cell_type": "markdown",
   "metadata": {
    "id": "NPSKnjS-gE_q"
   },
   "source": [
    "### Decoder\n"
   ]
  },
  {
   "cell_type": "code",
   "execution_count": null,
   "metadata": {
    "id": "dYRx7YzCW4bu"
   },
   "outputs": [],
   "source": [
    "def decoder(vocab_size,\n",
    "            num_layers,\n",
    "            units,\n",
    "            d_model,\n",
    "            num_heads,\n",
    "            dropout,\n",
    "            name='decoder'):\n",
    "  inputs = tf.keras.Input(shape=(None,), name='inputs')\n",
    "  enc_outputs = tf.keras.Input(shape=(None, d_model), name='encoder_outputs')\n",
    "  look_ahead_mask = tf.keras.Input(\n",
    "      shape=(1, None, None), name='look_ahead_mask')\n",
    "  padding_mask = tf.keras.Input(shape=(1, 1, None), name='padding_mask')\n",
    "  \n",
    "  embeddings = tf.keras.layers.Embedding(vocab_size, d_model)(inputs)\n",
    "  embeddings *= tf.math.sqrt(tf.cast(d_model, tf.float32))\n",
    "  embeddings = PositionalEncoding(vocab_size, d_model)(embeddings)\n",
    "\n",
    "  outputs = tf.keras.layers.Dropout(rate=dropout)(embeddings)\n",
    "\n",
    "  for i in range(num_layers):\n",
    "    outputs = decoder_layer(\n",
    "        units=units,\n",
    "        d_model=d_model,\n",
    "        num_heads=num_heads,\n",
    "        dropout=dropout,\n",
    "        name='decoder_layer_{}'.format(i),\n",
    "    )(inputs=[outputs, enc_outputs, look_ahead_mask, padding_mask])\n",
    "\n",
    "  return tf.keras.Model(\n",
    "      inputs=[inputs, enc_outputs, look_ahead_mask, padding_mask],\n",
    "      outputs=outputs,\n",
    "      name=name)"
   ]
  },
  {
   "cell_type": "code",
   "execution_count": null,
   "metadata": {
    "colab": {
     "base_uri": "https://localhost:8080/",
     "height": 774
    },
    "id": "tUdK8jb9hlTZ",
    "outputId": "3e9d5a6c-b223-483b-d50f-be37a11d11bd"
   },
   "outputs": [],
   "source": [
    "sample_decoder = decoder(\n",
    "    vocab_size=8192,\n",
    "    num_layers=2,\n",
    "    units=512,\n",
    "    d_model=128,\n",
    "    num_heads=4,\n",
    "    dropout=0.3,\n",
    "    name=\"sample_decoder\")\n",
    "\n",
    "tf.keras.utils.plot_model(\n",
    "    sample_decoder, to_file='decoder.png', show_shapes=True)"
   ]
  },
  {
   "cell_type": "markdown",
   "metadata": {
    "id": "yl0o97RJXAqw"
   },
   "source": [
    "### Transformer\n"
   ]
  },
  {
   "cell_type": "code",
   "execution_count": null,
   "metadata": {
    "id": "TW-v7Fz6XAfC"
   },
   "outputs": [],
   "source": [
    "def transformer(vocab_size,\n",
    "                num_layers,\n",
    "                units,\n",
    "                d_model,\n",
    "                num_heads,\n",
    "                dropout,\n",
    "                name=\"transformer\"):\n",
    "  input1 = tf.keras.Input(shape=(None,), name=\"input1\")\n",
    "  input2 = tf.keras.Input(shape=(None,), name=\"input2\")\n",
    "  dec_inputs = tf.keras.Input(shape=(None,), name=\"dec_inputs\")\n",
    "\n",
    "  enc_padding_mask = tf.keras.layers.Lambda(\n",
    "      create_padding_mask, output_shape=(1, 1, None),\n",
    "      name='enc_padding_mask')(input1)\n",
    "  # mask the future tokens for decoder inputs at the 1st attention block\n",
    "  look_ahead_mask = tf.keras.layers.Lambda(\n",
    "      create_look_ahead_mask,\n",
    "      output_shape=(1, None, None),\n",
    "      name='look_ahead_mask')(dec_inputs)\n",
    "  # mask the encoder outputs for the 2nd attention block\n",
    "  dec_padding_mask = tf.keras.layers.Lambda(\n",
    "      create_padding_mask, output_shape=(1, 1, None),\n",
    "      name='dec_padding_mask')(input1)\n",
    "\n",
    "  enc_outputs = encoder(\n",
    "      vocab_size=vocab_size,\n",
    "      num_layers=num_layers,\n",
    "      units=units,\n",
    "      d_model=d_model,\n",
    "      num_heads=num_heads,\n",
    "      dropout=dropout,\n",
    "  )(inputs=[input1, input2, enc_padding_mask])\n",
    "\n",
    "  dec_outputs = decoder(\n",
    "      vocab_size=vocab_size,\n",
    "      num_layers=num_layers,\n",
    "      units=units,\n",
    "      d_model=d_model,\n",
    "      num_heads=num_heads,\n",
    "      dropout=dropout,\n",
    "  )(inputs=[dec_inputs, enc_outputs, look_ahead_mask, dec_padding_mask])\n",
    "\n",
    "  outputs = tf.keras.layers.Dense(units=vocab_size, name=\"outputs\")(dec_outputs)\n",
    "\n",
    "  return tf.keras.Model(inputs=[input1, input2, dec_inputs], outputs=outputs, name=name)"
   ]
  },
  {
   "cell_type": "code",
   "execution_count": null,
   "metadata": {
    "colab": {
     "base_uri": "https://localhost:8080/",
     "height": 553
    },
    "id": "aihJLVq_iJ_T",
    "outputId": "cb623cf5-f99d-47f7-a1a6-468e7f290b71"
   },
   "outputs": [],
   "source": [
    "sample_transformer = transformer(\n",
    "    vocab_size=8192,\n",
    "    num_layers=4,\n",
    "    units=512,\n",
    "    d_model=128,\n",
    "    num_heads=4,\n",
    "    dropout=0.3,\n",
    "    name=\"sample_transformer\")\n",
    "\n",
    "tf.keras.utils.plot_model(\n",
    "    sample_transformer, to_file='transformer.png', show_shapes=True)"
   ]
  },
  {
   "cell_type": "markdown",
   "metadata": {
    "id": "9HD7GK-nh_KT"
   },
   "source": [
    "## Train model"
   ]
  },
  {
   "cell_type": "markdown",
   "metadata": {
    "id": "PDDxNpA-5Q5t"
   },
   "source": [
    "### Initialize model\n"
   ]
  },
  {
   "cell_type": "code",
   "execution_count": null,
   "metadata": {
    "id": "xE3unrOT5M5z"
   },
   "outputs": [],
   "source": [
    "tf.keras.backend.clear_session()\n",
    "\n",
    "# Hyper-parameters\n",
    "NUM_LAYERS = 2\n",
    "D_MODEL = 256\n",
    "NUM_HEADS = 8\n",
    "UNITS = 512\n",
    "DROPOUT = 0.1\n",
    "\n",
    "model = transformer(\n",
    "    vocab_size=VOCAB_SIZE,\n",
    "    num_layers=NUM_LAYERS,\n",
    "    units=UNITS,\n",
    "    d_model=D_MODEL,\n",
    "    num_heads=NUM_HEADS,\n",
    "    dropout=DROPOUT)"
   ]
  },
  {
   "cell_type": "markdown",
   "metadata": {
    "id": "0_GCb0LaV1tI"
   },
   "source": [
    "### Loss function\n"
   ]
  },
  {
   "cell_type": "code",
   "execution_count": null,
   "metadata": {
    "id": "UInVM9iGAMv1"
   },
   "outputs": [],
   "source": [
    "def loss_function(y_true, y_pred):\n",
    "  y_true = tf.reshape(y_true, shape=(-1, MAX_LENGTH - 1))\n",
    "  \n",
    "  loss = tf.keras.losses.SparseCategoricalCrossentropy(\n",
    "      from_logits=True, reduction='none')(y_true, y_pred)\n",
    "\n",
    "  mask = tf.cast(tf.not_equal(y_true, 0), tf.float32)\n",
    "  loss = tf.multiply(loss, mask)\n",
    "\n",
    "  return tf.reduce_mean(loss)"
   ]
  },
  {
   "cell_type": "markdown",
   "metadata": {
    "id": "XvFM9ajSVybP"
   },
   "source": [
    "### Custom learning rate\n"
   ]
  },
  {
   "cell_type": "code",
   "execution_count": null,
   "metadata": {
    "id": "WW3SeLDhAMJd"
   },
   "outputs": [],
   "source": [
    "class CustomSchedule(tf.keras.optimizers.schedules.LearningRateSchedule):\n",
    "\n",
    "  def __init__(self, d_model, warmup_steps=4000):\n",
    "    super(CustomSchedule, self).__init__()\n",
    "\n",
    "    self.d_model = d_model\n",
    "    self.d_model = tf.cast(self.d_model, tf.float32)\n",
    "\n",
    "    self.warmup_steps = warmup_steps\n",
    "\n",
    "  def __call__(self, step):\n",
    "    arg1 = tf.math.rsqrt(step)\n",
    "    arg2 = step * (self.warmup_steps**-1.5)\n",
    "\n",
    "    return tf.math.rsqrt(self.d_model) * tf.math.minimum(arg1, arg2)"
   ]
  },
  {
   "cell_type": "code",
   "execution_count": null,
   "metadata": {
    "colab": {
     "base_uri": "https://localhost:8080/",
     "height": 300
    },
    "id": "67BoG_UeaHHw",
    "outputId": "904f2155-eed1-4533-d6f4-83f06d26a5cb"
   },
   "outputs": [],
   "source": [
    "sample_learning_rate = CustomSchedule(d_model=128)\n",
    "\n",
    "plt.plot(sample_learning_rate(tf.range(200000, dtype=tf.float32)))\n",
    "plt.ylabel(\"Learning Rate\")\n",
    "plt.xlabel(\"Train Step\")"
   ]
  },
  {
   "cell_type": "markdown",
   "metadata": {
    "id": "cCqve3kwWCxd"
   },
   "source": [
    "### Compile Model\n"
   ]
  },
  {
   "cell_type": "code",
   "execution_count": null,
   "metadata": {
    "id": "1QqojIa5WEQq"
   },
   "outputs": [],
   "source": [
    "learning_rate = CustomSchedule(D_MODEL)\n",
    "\n",
    "optimizer = tf.keras.optimizers.Adam(\n",
    "    learning_rate, beta_1=0.9, beta_2=0.98, epsilon=1e-9)\n",
    "\n",
    "def accuracy(y_true, y_pred):\n",
    "    y_true = tf.reshape(y_true, shape=(-1, MAX_LENGTH - 1))\n",
    "    return tf.keras.metrics.sparse_categorical_accuracy(y_true, y_pred)\n",
    "\n",
    "model.compile(optimizer=optimizer, loss=loss_function, metrics=[accuracy])"
   ]
  },
  {
   "cell_type": "markdown",
   "metadata": {
    "id": "vDMd69urLNuc"
   },
   "source": [
    "### Fit model\n"
   ]
  },
  {
   "cell_type": "code",
   "execution_count": null,
   "metadata": {
    "colab": {
     "base_uri": "https://localhost:8080/",
     "height": 725
    },
    "id": "d7iahRzlLNG2",
    "outputId": "244d0fcb-eb0f-415f-a8a0-46145fab9998",
    "scrolled": true
   },
   "outputs": [],
   "source": [
    "EPOCHS = 50\n",
    "model.fit(dataset, epochs=EPOCHS)"
   ]
  },
  {
   "cell_type": "markdown",
   "metadata": {},
   "source": [
    "# Save and load model"
   ]
  },
  {
   "cell_type": "code",
   "execution_count": null,
   "metadata": {
    "scrolled": true
   },
   "outputs": [],
   "source": [
    "model.save_weights('mymodel1.h5')"
   ]
  },
  {
   "cell_type": "code",
   "execution_count": null,
   "metadata": {},
   "outputs": [],
   "source": [
    "def create_model():\n",
    "    NUM_LAYERS = 2\n",
    "    D_MODEL = 256\n",
    "    NUM_HEADS = 8\n",
    "    UNITS = 512\n",
    "    DROPOUT = 0.1\n",
    "\n",
    "    model = transformer(\n",
    "    vocab_size=VOCAB_SIZE,\n",
    "    num_layers=NUM_LAYERS,\n",
    "    units=UNITS,\n",
    "    d_model=D_MODEL,\n",
    "    num_heads=NUM_HEADS,\n",
    "    dropout=DROPOUT)\n",
    "    model.compile(optimizer=optimizer, loss=loss_function, metrics=[accuracy])\n",
    "    return model\n",
    "    "
   ]
  },
  {
   "cell_type": "code",
   "execution_count": null,
   "metadata": {},
   "outputs": [],
   "source": [
    "test=create_model()"
   ]
  },
  {
   "cell_type": "code",
   "execution_count": null,
   "metadata": {},
   "outputs": [],
   "source": [
    "test"
   ]
  },
  {
   "cell_type": "code",
   "execution_count": null,
   "metadata": {},
   "outputs": [],
   "source": [
    "test.load_weights('mymodel1.h5')"
   ]
  },
  {
   "cell_type": "code",
   "execution_count": null,
   "metadata": {},
   "outputs": [],
   "source": [
    "def evaluate(sentence,emotion):\n",
    "    sentence = preprocess_sentence(sentence)\n",
    "\n",
    "    sentence = tf.expand_dims(\n",
    "        START_TOKEN + tokenizer.encode(sentence) + END_TOKEN, axis=0\n",
    "        \n",
    "    )\n",
    "    emotion = tokenizer.encode(emotion)\n",
    "\n",
    "    output = tf.expand_dims(START_TOKEN, 0)\n",
    "\n",
    "    for i in range(MAX_LENGTH):\n",
    "        predictions = test(inputs=[sentence,emotion, output], training=False)\n",
    "\n",
    "        # select the last word from the seq_len dimension\n",
    "        predictions = predictions[:, -1:, :]\n",
    "        predicted_id = tf.cast(tf.argmax(predictions, axis=-1), tf.int32)\n",
    "\n",
    "        # return the result if the predicted_id is equal to the end token\n",
    "        if tf.equal(predicted_id, END_TOKEN[0]):\n",
    "            break\n",
    "\n",
    "        # concatenated the predicted_id to the output which is given to the decoder\n",
    "        # as its input.\n",
    "        output = tf.concat([output, predicted_id], axis=-1)\n",
    "\n",
    "    return tf.squeeze(output, axis=0)\n",
    "\n",
    "\n",
    "def predict(sentence,emotion):\n",
    "    prediction = evaluate(sentence,emotion)\n",
    "    predicted_sentence = tokenizer.decode(\n",
    "        [i for i in prediction if i < tokenizer.vocab_size]\n",
    "    )\n",
    "    return predicted_sentence"
   ]
  },
  {
   "cell_type": "code",
   "execution_count": null,
   "metadata": {
    "scrolled": true
   },
   "outputs": [],
   "source": [
    "predict(\"i am happy\",'neutral')"
   ]
  },
  {
   "cell_type": "code",
   "execution_count": null,
   "metadata": {},
   "outputs": [],
   "source": []
  }
 ],
 "metadata": {
  "accelerator": "GPU",
  "colab": {
   "collapsed_sections": [],
   "name": "transformer_chatbot_tf2_fix.ipynb",
   "provenance": [],
   "toc_visible": true
  },
  "kernelspec": {
   "display_name": "Python 3 (ipykernel)",
   "language": "python",
   "name": "python3"
  },
  "language_info": {
   "codemirror_mode": {
    "name": "ipython",
    "version": 3
   },
   "file_extension": ".py",
   "mimetype": "text/x-python",
   "name": "python",
   "nbconvert_exporter": "python",
   "pygments_lexer": "ipython3",
   "version": "3.10.6"
  }
 },
 "nbformat": 4,
 "nbformat_minor": 1
}
